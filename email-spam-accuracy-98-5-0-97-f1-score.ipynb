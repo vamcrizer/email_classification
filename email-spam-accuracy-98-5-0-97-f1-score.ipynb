{
 "cells": [
  {
   "cell_type": "code",
   "execution_count": 1,
   "id": "ec52ae68",
   "metadata": {
    "_cell_guid": "b1076dfc-b9ad-4769-8c92-a6c4dae69d19",
    "_uuid": "8f2839f25d086af736a60e9eeb907d3b93b6e0e5",
    "execution": {
     "iopub.execute_input": "2024-09-19T17:14:20.904515Z",
     "iopub.status.busy": "2024-09-19T17:14:20.904114Z",
     "iopub.status.idle": "2024-09-19T17:14:21.273985Z",
     "shell.execute_reply": "2024-09-19T17:14:21.272629Z"
    },
    "papermill": {
     "duration": 0.377339,
     "end_time": "2024-09-19T17:14:21.276430",
     "exception": false,
     "start_time": "2024-09-19T17:14:20.899091",
     "status": "completed"
    },
    "tags": []
   },
   "outputs": [
    {
     "name": "stdout",
     "output_type": "stream",
     "text": [
      "/kaggle/input/spam-email-classification/email.csv\n"
     ]
    }
   ],
   "source": [
    "# This Python 3 environment comes with many helpful analytics libraries installed\n",
    "# It is defined by the kaggle/python Docker image: https://github.com/kaggle/docker-python\n",
    "# For example, here's several helpful packages to load\n",
    "\n",
    "import numpy as np # linear algebra\n",
    "import pandas as pd # data processing, CSV file I/O (e.g. pd.read_csv)\n",
    "\n",
    "# Input data files are available in the read-only \"../input/\" directory\n",
    "# For example, running this (by clicking run or pressing Shift+Enter) will list all files under the input directory\n",
    "\n",
    "import os\n",
    "for dirname, _, filenames in os.walk('/kaggle/input'):\n",
    "    for filename in filenames:\n",
    "        print(os.path.join(dirname, filename))\n",
    "\n",
    "# You can write up to 20GB to the current directory (/kaggle/working/) that gets preserved as output when you create a version using \"Save & Run All\" \n",
    "# You can also write temporary files to /kaggle/temp/, but they won't be saved outside of the current session"
   ]
  },
  {
   "cell_type": "code",
   "execution_count": 2,
   "id": "2af36e94",
   "metadata": {
    "execution": {
     "iopub.execute_input": "2024-09-19T17:14:21.284629Z",
     "iopub.status.busy": "2024-09-19T17:14:21.283781Z",
     "iopub.status.idle": "2024-09-19T17:14:23.040038Z",
     "shell.execute_reply": "2024-09-19T17:14:23.039212Z"
    },
    "papermill": {
     "duration": 1.762494,
     "end_time": "2024-09-19T17:14:23.042232",
     "exception": false,
     "start_time": "2024-09-19T17:14:21.279738",
     "status": "completed"
    },
    "tags": []
   },
   "outputs": [],
   "source": [
    "import numpy as np\n",
    "import string\n",
    "import pandas as pd\n",
    "import nltk\n",
    "from nltk.corpus import stopwords\n",
    "from nltk.stem.porter import PorterStemmer\n",
    "from sklearn.feature_extraction.text import CountVectorizer\n",
    "from sklearn.model_selection import train_test_split"
   ]
  },
  {
   "cell_type": "code",
   "execution_count": 3,
   "id": "95be70ef",
   "metadata": {
    "execution": {
     "iopub.execute_input": "2024-09-19T17:14:23.050246Z",
     "iopub.status.busy": "2024-09-19T17:14:23.049458Z",
     "iopub.status.idle": "2024-09-19T17:14:23.094226Z",
     "shell.execute_reply": "2024-09-19T17:14:23.093134Z"
    },
    "papermill": {
     "duration": 0.050814,
     "end_time": "2024-09-19T17:14:23.096339",
     "exception": false,
     "start_time": "2024-09-19T17:14:23.045525",
     "status": "completed"
    },
    "tags": []
   },
   "outputs": [
    {
     "name": "stdout",
     "output_type": "stream",
     "text": [
      "Category    0\n",
      "Message     0\n",
      "dtype: int64\n"
     ]
    },
    {
     "data": {
      "text/html": [
       "<div>\n",
       "<style scoped>\n",
       "    .dataframe tbody tr th:only-of-type {\n",
       "        vertical-align: middle;\n",
       "    }\n",
       "\n",
       "    .dataframe tbody tr th {\n",
       "        vertical-align: top;\n",
       "    }\n",
       "\n",
       "    .dataframe thead th {\n",
       "        text-align: right;\n",
       "    }\n",
       "</style>\n",
       "<table border=\"1\" class=\"dataframe\">\n",
       "  <thead>\n",
       "    <tr style=\"text-align: right;\">\n",
       "      <th></th>\n",
       "      <th>Category</th>\n",
       "      <th>Message</th>\n",
       "    </tr>\n",
       "  </thead>\n",
       "  <tbody>\n",
       "    <tr>\n",
       "      <th>0</th>\n",
       "      <td>ham</td>\n",
       "      <td>Go until jurong point, crazy.. Available only ...</td>\n",
       "    </tr>\n",
       "    <tr>\n",
       "      <th>1</th>\n",
       "      <td>ham</td>\n",
       "      <td>Ok lar... Joking wif u oni...</td>\n",
       "    </tr>\n",
       "    <tr>\n",
       "      <th>2</th>\n",
       "      <td>spam</td>\n",
       "      <td>Free entry in 2 a wkly comp to win FA Cup fina...</td>\n",
       "    </tr>\n",
       "    <tr>\n",
       "      <th>3</th>\n",
       "      <td>ham</td>\n",
       "      <td>U dun say so early hor... U c already then say...</td>\n",
       "    </tr>\n",
       "    <tr>\n",
       "      <th>4</th>\n",
       "      <td>ham</td>\n",
       "      <td>Nah I don't think he goes to usf, he lives aro...</td>\n",
       "    </tr>\n",
       "  </tbody>\n",
       "</table>\n",
       "</div>"
      ],
      "text/plain": [
       "  Category                                            Message\n",
       "0      ham  Go until jurong point, crazy.. Available only ...\n",
       "1      ham                      Ok lar... Joking wif u oni...\n",
       "2     spam  Free entry in 2 a wkly comp to win FA Cup fina...\n",
       "3      ham  U dun say so early hor... U c already then say...\n",
       "4      ham  Nah I don't think he goes to usf, he lives aro..."
      ]
     },
     "execution_count": 3,
     "metadata": {},
     "output_type": "execute_result"
    }
   ],
   "source": [
    "df = pd.read_csv('/kaggle/input/spam-email-classification/email.csv')\n",
    "print(df.isna().sum())\n",
    "df.head()"
   ]
  },
  {
   "cell_type": "code",
   "execution_count": 4,
   "id": "ea60a8c4",
   "metadata": {
    "execution": {
     "iopub.execute_input": "2024-09-19T17:14:23.104566Z",
     "iopub.status.busy": "2024-09-19T17:14:23.103842Z",
     "iopub.status.idle": "2024-09-19T17:14:23.118301Z",
     "shell.execute_reply": "2024-09-19T17:14:23.117409Z"
    },
    "papermill": {
     "duration": 0.020453,
     "end_time": "2024-09-19T17:14:23.120150",
     "exception": false,
     "start_time": "2024-09-19T17:14:23.099697",
     "status": "completed"
    },
    "tags": []
   },
   "outputs": [
    {
     "data": {
      "text/plain": [
       "5572"
      ]
     },
     "execution_count": 4,
     "metadata": {},
     "output_type": "execute_result"
    }
   ],
   "source": [
    "df[\"label\"] = df[\"Category\"].replace([\"ham\", \"spam\"], [0,1])\n",
    "df.drop(5572, inplace = True)\n",
    "df[\"label\"] = df[\"label\"].astype(int)\n",
    "len(df)\n"
   ]
  },
  {
   "cell_type": "code",
   "execution_count": 5,
   "id": "20470732",
   "metadata": {
    "execution": {
     "iopub.execute_input": "2024-09-19T17:14:23.128539Z",
     "iopub.status.busy": "2024-09-19T17:14:23.127888Z",
     "iopub.status.idle": "2024-09-19T17:14:23.569937Z",
     "shell.execute_reply": "2024-09-19T17:14:23.568963Z"
    },
    "papermill": {
     "duration": 0.448364,
     "end_time": "2024-09-19T17:14:23.571964",
     "exception": false,
     "start_time": "2024-09-19T17:14:23.123600",
     "status": "completed"
    },
    "tags": []
   },
   "outputs": [
    {
     "name": "stdout",
     "output_type": "stream",
     "text": [
      "[nltk_data] Downloading package stopwords to /usr/share/nltk_data...\n",
      "[nltk_data]   Package stopwords is already up-to-date!\n"
     ]
    },
    {
     "data": {
      "text/plain": [
       "True"
      ]
     },
     "execution_count": 5,
     "metadata": {},
     "output_type": "execute_result"
    }
   ],
   "source": [
    "nltk.download('stopwords')"
   ]
  },
  {
   "cell_type": "code",
   "execution_count": 6,
   "id": "d8b62e37",
   "metadata": {
    "execution": {
     "iopub.execute_input": "2024-09-19T17:14:23.580616Z",
     "iopub.status.busy": "2024-09-19T17:14:23.580277Z",
     "iopub.status.idle": "2024-09-19T17:14:24.960302Z",
     "shell.execute_reply": "2024-09-19T17:14:24.959232Z"
    },
    "papermill": {
     "duration": 1.387081,
     "end_time": "2024-09-19T17:14:24.962681",
     "exception": false,
     "start_time": "2024-09-19T17:14:23.575600",
     "status": "completed"
    },
    "tags": []
   },
   "outputs": [],
   "source": [
    "stemmer = PorterStemmer()\n",
    "corpus =[]\n",
    "stopwords_set = set(stopwords.words('english'))\n",
    "for i in range (len(df)):\n",
    "    text = df[\"Message\"].iloc[i].lower()\n",
    "    text = text.translate(str.maketrans('','', string.punctuation)).split()\n",
    "    text = [stemmer.stem(word) for word in text if word not in stopwords_set]\n",
    "    text = ' '.join(text)\n",
    "    corpus.append(text)"
   ]
  },
  {
   "cell_type": "code",
   "execution_count": 7,
   "id": "bf13bbd1",
   "metadata": {
    "execution": {
     "iopub.execute_input": "2024-09-19T17:14:24.971737Z",
     "iopub.status.busy": "2024-09-19T17:14:24.971001Z",
     "iopub.status.idle": "2024-09-19T17:14:25.362337Z",
     "shell.execute_reply": "2024-09-19T17:14:25.361298Z"
    },
    "papermill": {
     "duration": 0.397941,
     "end_time": "2024-09-19T17:14:25.364397",
     "exception": false,
     "start_time": "2024-09-19T17:14:24.966456",
     "status": "completed"
    },
    "tags": []
   },
   "outputs": [
    {
     "name": "stdout",
     "output_type": "stream",
     "text": [
      "(4179, 8094)\n",
      "(4179,)\n"
     ]
    }
   ],
   "source": [
    "vectorizer = CountVectorizer()\n",
    "X = vectorizer.fit_transform(corpus).toarray()\n",
    "y = df.label\n",
    "\n",
    "X_train, X_test, y_train,  y_test = train_test_split(X, y, test_size = 0.25, random_state = 1)\n",
    "print(X_train.shape)\n",
    "print(y_train.shape)"
   ]
  },
  {
   "cell_type": "code",
   "execution_count": 8,
   "id": "f7512dd0",
   "metadata": {
    "execution": {
     "iopub.execute_input": "2024-09-19T17:14:25.373287Z",
     "iopub.status.busy": "2024-09-19T17:14:25.372698Z",
     "iopub.status.idle": "2024-09-19T17:14:26.742972Z",
     "shell.execute_reply": "2024-09-19T17:14:26.741823Z"
    },
    "papermill": {
     "duration": 1.377867,
     "end_time": "2024-09-19T17:14:26.746083",
     "exception": false,
     "start_time": "2024-09-19T17:14:25.368216",
     "status": "completed"
    },
    "tags": []
   },
   "outputs": [],
   "source": [
    "#Using PassiveAggressiveClassifier model\n",
    "from sklearn.linear_model import PassiveAggressiveClassifier\n",
    "from sklearn.metrics import accuracy_score, classification_report\n",
    "pac = PassiveAggressiveClassifier(max_iter=1000, random_state=43)\n",
    "\n",
    "pac.fit(X_train, y_train)\n",
    "\n",
    "y_pred = pac.predict(X_test)"
   ]
  },
  {
   "cell_type": "code",
   "execution_count": 9,
   "id": "1551e0ac",
   "metadata": {
    "execution": {
     "iopub.execute_input": "2024-09-19T17:14:26.761762Z",
     "iopub.status.busy": "2024-09-19T17:14:26.760874Z",
     "iopub.status.idle": "2024-09-19T17:14:27.098465Z",
     "shell.execute_reply": "2024-09-19T17:14:27.097526Z"
    },
    "papermill": {
     "duration": 0.34784,
     "end_time": "2024-09-19T17:14:27.100569",
     "exception": false,
     "start_time": "2024-09-19T17:14:26.752729",
     "status": "completed"
    },
    "tags": []
   },
   "outputs": [
    {
     "name": "stdout",
     "output_type": "stream",
     "text": [
      "Accuracy: 0.9856424982053122\n",
      "              precision    recall  f1-score   support\n",
      "\n",
      "           0       0.99      1.00      0.99      1208\n",
      "           1       0.98      0.91      0.94       185\n",
      "\n",
      "    accuracy                           0.99      1393\n",
      "   macro avg       0.98      0.95      0.97      1393\n",
      "weighted avg       0.99      0.99      0.99      1393\n",
      "\n",
      "AUC: 0.9945722212278504\n"
     ]
    },
    {
     "data": {
      "image/png": "[encoded data removed]",
      "text/plain": [
       "<Figure size 640x480 with 1 Axes>"
      ]
     },
     "metadata": {},
     "output_type": "display_data"
    }
   ],
   "source": [
    "import matplotlib.pyplot as plt\n",
    "\n",
    "# Reporting Classification Stats\n",
    "print(f'Accuracy: {accuracy_score(y_test, y_pred)}')\n",
    "print(classification_report(y_test, y_pred))\n",
    "from sklearn.metrics import roc_auc_score, roc_curve\n",
    "\n",
    "y_scores = pac.decision_function(X_test)\n",
    "\n",
    "# Find ROC and AUC\n",
    "roc_auc = roc_auc_score(y_test, y_scores)\n",
    "print(f'AUC: {roc_auc}')\n",
    "\n",
    "# Plotting ROC\n",
    "fpr, tpr, thresholds = roc_curve(y_test, y_scores)\n",
    "\n",
    "plt.figure()\n",
    "plt.plot(fpr, tpr, color='blue', label='ROC curve (area = %0.2f)' % roc_auc)\n",
    "plt.plot([0, 1], [0, 1], color='red', linestyle='--')\n",
    "plt.xlim([0.0, 1.0])\n",
    "plt.ylim([0.0, 1.05])\n",
    "plt.xlabel('False Positive Rate')\n",
    "plt.ylabel('True Positive Rate')\n",
    "plt.title('Receiver Operating Characteristic')\n",
    "plt.legend(loc='lower right')\n",
    "plt.show()"
   ]
  },
  {
   "cell_type": "code",
   "execution_count": 10,
   "id": "4559863f",
   "metadata": {
    "execution": {
     "iopub.execute_input": "2024-09-19T17:14:27.110368Z",
     "iopub.status.busy": "2024-09-19T17:14:27.110031Z",
     "iopub.status.idle": "2024-09-19T17:14:34.728449Z",
     "shell.execute_reply": "2024-09-19T17:14:34.725353Z"
    },
    "papermill": {
     "duration": 7.627029,
     "end_time": "2024-09-19T17:14:34.731865",
     "exception": false,
     "start_time": "2024-09-19T17:14:27.104836",
     "status": "completed"
    },
    "tags": []
   },
   "outputs": [
    {
     "name": "stdout",
     "output_type": "stream",
     "text": [
      "F1 Score of each folds: [0.94444444 0.93478261 0.93515358 0.89298893 0.92041522]\n",
      "Mean F1 Score: 0.9255569583121277\n",
      "Standard Deviation: 0.018005881663205138\n"
     ]
    }
   ],
   "source": [
    "#Using K-Folds CrossValidation to check overfitting\n",
    "from sklearn.model_selection import cross_val_score, KFold\n",
    "kf = KFold(n_splits=5, shuffle=True, random_state=42)\n",
    "\n",
    "cv_scores = cross_val_score(pac, X, y, cv=kf, scoring='f1')\n",
    "\n",
    "print(\"F1 Score of each folds:\", cv_scores)\n",
    "print(\"Mean F1 Score:\", np.mean(cv_scores))\n",
    "print(\"Standard Deviation:\", np.std(cv_scores))"
   ]
  }
 ],
 "metadata": {
  "kaggle": {
   "accelerator": "none",
   "dataSources": [
    {
     "datasetId": 1522783,
     "sourceId": 7263127,
     "sourceType": "datasetVersion"
    }
   ],
   "dockerImageVersionId": 30761,
   "isGpuEnabled": false,
   "isInternetEnabled": true,
   "language": "python",
   "sourceType": "notebook"
  },
  "kernelspec": {
   "display_name": "Python 3",
   "language": "python",
   "name": "python3"
  },
  "language_info": {
   "codemirror_mode": {
    "name": "ipython",
    "version": 3
   },
   "file_extension": ".py",
   "mimetype": "text/x-python",
   "name": "python",
   "nbconvert_exporter": "python",
   "pygments_lexer": "ipython3",
   "version": "3.10.14"
  },
  "papermill": {
   "default_parameters": {},
   "duration": 16.701485,
   "end_time": "2024-09-19T17:14:35.259509",
   "environment_variables": {},
   "exception": null,
   "input_path": "__notebook__.ipynb",
   "output_path": "__notebook__.ipynb",
   "parameters": {},
   "start_time": "2024-09-19T17:14:18.558024",
   "version": "2.6.0"
  }
 },
 "nbformat": 4,
 "nbformat_minor": 5
}
